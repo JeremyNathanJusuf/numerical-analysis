{
 "cells": [
  {
   "cell_type": "code",
   "execution_count": 1,
   "metadata": {},
   "outputs": [],
   "source": [
    "import math"
   ]
  },
  {
   "cell_type": "code",
   "execution_count": 5,
   "metadata": {},
   "outputs": [],
   "source": [
    "def fixed_point_iter(g, p0, p_true, N, epsilon):\n",
    "    p = g(p0)\n",
    "    n = 1\n",
    "    ratio = math.log(g(p) - p_true)/math.log(p - p_true)\n",
    "    \n",
    "    while abs(p - p0) >= epsilon:        \n",
    "        n += 1\n",
    "        p0 = p\n",
    "        p = g(p0)\n",
    "        \n",
    "        ratio = math.log(g(p) - p_true)/math.log(p - p_true)\n",
    "        \n",
    "        if n >= N:\n",
    "            print(f'The method failed after {n} iterations')\n",
    "            return None, n, None\n",
    "        \n",
    "    \n",
    "    return p, n, ratio"
   ]
  },
  {
   "cell_type": "code",
   "execution_count": 15,
   "metadata": {},
   "outputs": [],
   "source": [
    "def g1(x):\n",
    "    return math.sin(x**2)"
   ]
  },
  {
   "cell_type": "code",
   "execution_count": 16,
   "metadata": {},
   "outputs": [
    {
     "data": {
      "text/plain": [
       "(2.1810238745879257e-78, 8, 2.0)"
      ]
     },
     "execution_count": 16,
     "metadata": {},
     "output_type": "execute_result"
    }
   ],
   "source": [
    "fixed_point_iter(g1, 0.5, 0, 20, 1e-20)"
   ]
  },
  {
   "cell_type": "code",
   "execution_count": 17,
   "metadata": {},
   "outputs": [],
   "source": [
    "def g2(x):\n",
    "    return x - math.sin(x**2)/(2*x*math.cos(x**2))"
   ]
  },
  {
   "cell_type": "code",
   "execution_count": 20,
   "metadata": {},
   "outputs": [
    {
     "data": {
      "text/plain": [
       "(7.710203332839621e-31, 99, 1.0099967008853514)"
      ]
     },
     "execution_count": 20,
     "metadata": {},
     "output_type": "execute_result"
    }
   ],
   "source": [
    "fixed_point_iter(g2, 0.5, 0, 100, 1e-30)"
   ]
  },
  {
   "cell_type": "code",
   "execution_count": null,
   "metadata": {},
   "outputs": [],
   "source": []
  }
 ],
 "metadata": {
  "kernelspec": {
   "display_name": "base",
   "language": "python",
   "name": "python3"
  },
  "language_info": {
   "codemirror_mode": {
    "name": "ipython",
    "version": 3
   },
   "file_extension": ".py",
   "mimetype": "text/x-python",
   "name": "python",
   "nbconvert_exporter": "python",
   "pygments_lexer": "ipython3",
   "version": "3.11.7"
  }
 },
 "nbformat": 4,
 "nbformat_minor": 2
}
