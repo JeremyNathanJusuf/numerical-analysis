{
 "cells": [
  {
   "cell_type": "code",
   "execution_count": 45,
   "metadata": {},
   "outputs": [],
   "source": [
    "def fixed_point_iter(g, p0, N, epsilon):\n",
    "    p = g(p0)\n",
    "    n = 1\n",
    "    while abs(p - p0) >= epsilon:        \n",
    "        n += 1\n",
    "        p0 = p\n",
    "        p = g(p0)\n",
    "        \n",
    "        if n >= N:\n",
    "            print(f'The method failed after {n} iterations')\n",
    "            return None, n\n",
    "    \n",
    "    return p, n"
   ]
  },
  {
   "cell_type": "code",
   "execution_count": 46,
   "metadata": {},
   "outputs": [],
   "source": [
    "import math\n",
    "def g(x):\n",
    "    return x + (math.cos(2*x)**2-x**2)/(4*math.cos(2*x)*math.sin(2*x)+2*x)"
   ]
  },
  {
   "cell_type": "code",
   "execution_count": 47,
   "metadata": {},
   "outputs": [
    {
     "name": "stdout",
     "output_type": "stream",
     "text": [
      "p = -0.5149332631594454\tn=6\n",
      "p = 0.5149332646611292\tn=7\n",
      "p = 0.5149332646610907\tn=10\n",
      "p = -0.5149332646611292\tn=6\n",
      "p = -0.5149332646610075\tn=6\n",
      "p = 0.5149332646611294\tn=11\n",
      "p = 0.5149332646548489\tn=11\n",
      "p = -0.5149332646611289\tn=8\n"
     ]
    }
   ],
   "source": [
    "initial = [ 0.02, 0.021, 0.93, 0.94, 1.13, 1.14, 1.475, 1.476]\n",
    "\n",
    "for values in initial:\n",
    "    p, n = fixed_point_iter(g, values, 20, 1e-4)\n",
    "    print(f'p = {p}\\tn={n}')"
   ]
  },
  {
   "cell_type": "code",
   "execution_count": 49,
   "metadata": {},
   "outputs": [],
   "source": [
    "def fixed_point_iter2(f, g, p0, N, epsilon):\n",
    "    p = g(p0)\n",
    "    n = 1\n",
    "    while abs(f(p)) >= epsilon:          \n",
    "        \n",
    "        n += 1\n",
    "        p0 = p\n",
    "        p = g(p0)\n",
    "        \n",
    "        if n >= N:\n",
    "            print(f'The method failed after {n} iterations')\n",
    "            return None, n\n",
    "    \n",
    "    return p, n"
   ]
  },
  {
   "cell_type": "code",
   "execution_count": 50,
   "metadata": {},
   "outputs": [],
   "source": [
    "def f(x):\n",
    "    return math.cos(2*x)**2-x**2"
   ]
  },
  {
   "cell_type": "code",
   "execution_count": 51,
   "metadata": {},
   "outputs": [
    {
     "name": "stdout",
     "output_type": "stream",
     "text": [
      "p = -0.5149332631594454\tn=6\n",
      "p = 0.5149332379793107\tn=6\n",
      "p = 0.5149329136846443\tn=9\n",
      "p = -0.5149332372659093\tn=5\n",
      "p = -0.5149326419514548\tn=5\n",
      "p = 0.5149332570188485\tn=10\n",
      "p = 0.5149287946767271\tn=10\n",
      "p = -0.5149332242687564\tn=7\n"
     ]
    }
   ],
   "source": [
    "initial = [ 0.02, 0.021, 0.93, 0.94, 1.13, 1.14, 1.475, 1.476]\n",
    "\n",
    "for values in initial:\n",
    "    p, n = fixed_point_iter2(f, g, values, 20, 1e-4)\n",
    "    print(f'p = {p}\\tn={n}')"
   ]
  },
  {
   "cell_type": "code",
   "execution_count": null,
   "metadata": {},
   "outputs": [],
   "source": []
  },
  {
   "cell_type": "code",
   "execution_count": null,
   "metadata": {},
   "outputs": [],
   "source": []
  }
 ],
 "metadata": {
  "kernelspec": {
   "display_name": "base",
   "language": "python",
   "name": "python3"
  },
  "language_info": {
   "codemirror_mode": {
    "name": "ipython",
    "version": 3
   },
   "file_extension": ".py",
   "mimetype": "text/x-python",
   "name": "python",
   "nbconvert_exporter": "python",
   "pygments_lexer": "ipython3",
   "version": "3.11.7"
  }
 },
 "nbformat": 4,
 "nbformat_minor": 2
}
